{
  "nbformat": 4,
  "nbformat_minor": 0,
  "metadata": {
    "colab": {
      "provenance": [],
      "collapsed_sections": []
    },
    "kernelspec": {
      "name": "python3",
      "display_name": "Python 3"
    },
    "language_info": {
      "name": "python"
    }
  },
  "cells": [
    {
      "cell_type": "code",
      "execution_count": 2,
      "metadata": {
        "colab": {
          "base_uri": "https://localhost:8080/"
        },
        "id": "tAvPM3iW60g_",
        "outputId": "1c4ee879-db80-4247-ab52-089c099dcd4f"
      },
      "outputs": [
        {
          "output_type": "stream",
          "name": "stdout",
          "text": [
            "Model: \"sequential\"\n",
            "_________________________________________________________________\n",
            " Layer (type)                Output Shape              Param #   \n",
            "=================================================================\n",
            " embedding (Embedding)       (None, 23, 100)           91700     \n",
            "                                                                 \n",
            " bidirectional (Bidirectiona  (None, 23, 300)          301200    \n",
            " l)                                                              \n",
            "                                                                 \n",
            " dropout (Dropout)           (None, 23, 300)           0         \n",
            "                                                                 \n",
            " lstm_1 (LSTM)               (None, 100)               160400    \n",
            "                                                                 \n",
            " dense (Dense)               (None, 458)               46258     \n",
            "                                                                 \n",
            " dense_1 (Dense)             (None, 917)               420903    \n",
            "                                                                 \n",
            "=================================================================\n",
            "Total params: 1,020,461\n",
            "Trainable params: 1,020,461\n",
            "Non-trainable params: 0\n",
            "_________________________________________________________________\n",
            "None\n"
          ]
        }
      ],
      "source": [
        "from tensorflow.keras.preprocessing.sequence import pad_sequences\n",
        "from tensorflow.keras.layers import Embedding, LSTM, Dense, Dropout, Bidirectional\n",
        "from tensorflow.keras.preprocessing.text import Tokenizer\n",
        "from tensorflow.keras.models import Sequential\n",
        "from tensorflow.keras.optimizers import Adam\n",
        "from tensorflow.keras import regularizers\n",
        "import tensorflow.keras.utils as ku \n",
        "import numpy as np \n",
        " \n",
        " \n",
        "tokenizer = Tokenizer()\n",
        "data = open('payas.txt').read()\n",
        " \n",
        "corpus = data.lower().split(\"\\n\")\n",
        "tokenizer.fit_on_texts(corpus)\n",
        "total_words = len(tokenizer.word_index) + 1\n",
        " \n",
        "# create input sequences using list of tokens\n",
        "input_sequences = []\n",
        "for line in corpus:\n",
        "    token_list = tokenizer.texts_to_sequences([line])[0]\n",
        "    for i in range(1, len(token_list)):\n",
        "        n_gram_sequence = token_list[:i+1]\n",
        "        input_sequences.append(n_gram_sequence)\n",
        " \n",
        " \n",
        "# pad sequences \n",
        "max_sequence_len = max([len(x) for x in input_sequences])\n",
        "input_sequences = np.array(pad_sequences(input_sequences, maxlen=max_sequence_len, padding='pre'))\n",
        " \n",
        "# create predictors and label\n",
        "predictors, label = input_sequences[:,:-1],input_sequences[:,-1]\n",
        " \n",
        "label = ku.to_categorical(label, num_classes=total_words)\n",
        " \n",
        " \n",
        "model = Sequential()\n",
        "model.add(Embedding(total_words, 100, input_length=max_sequence_len-1))\n",
        "model.add(Bidirectional(LSTM(150, return_sequences = True)))\n",
        "model.add(Dropout(0.2))\n",
        "model.add(LSTM(100))\n",
        "model.add(Dense(total_words/2, activation='relu', kernel_regularizer=regularizers.l2(0.01)))\n",
        "model.add(Dense(total_words, activation='softmax'))\n",
        "model.compile(loss='categorical_crossentropy', optimizer='adam', metrics=['accuracy'])\n",
        "print(model.summary())"
      ]
    },
    {
      "cell_type": "code",
      "source": [
        "history = model.fit(predictors, label, epochs=50, verbose=1)\n"
      ],
      "metadata": {
        "colab": {
          "base_uri": "https://localhost:8080/"
        },
        "id": "hVgpse9t7RKj",
        "outputId": "0210c0bd-142b-4e72-c8e7-955b1f967705"
      },
      "execution_count": 3,
      "outputs": [
        {
          "output_type": "stream",
          "name": "stdout",
          "text": [
            "Epoch 1/50\n",
            "80/80 [==============================] - 15s 118ms/step - loss: 7.1202 - accuracy: 0.0268\n",
            "Epoch 2/50\n",
            "80/80 [==============================] - 9s 117ms/step - loss: 6.0622 - accuracy: 0.0399\n",
            "Epoch 3/50\n",
            "80/80 [==============================] - 9s 118ms/step - loss: 5.7688 - accuracy: 0.0328\n",
            "Epoch 4/50\n",
            "80/80 [==============================] - 10s 131ms/step - loss: 5.6146 - accuracy: 0.0415\n",
            "Epoch 5/50\n",
            "80/80 [==============================] - 9s 117ms/step - loss: 5.4820 - accuracy: 0.0450\n",
            "Epoch 6/50\n",
            "80/80 [==============================] - 9s 117ms/step - loss: 5.4012 - accuracy: 0.0490\n",
            "Epoch 7/50\n",
            "80/80 [==============================] - 9s 118ms/step - loss: 5.3215 - accuracy: 0.0565\n",
            "Epoch 8/50\n",
            "80/80 [==============================] - 11s 133ms/step - loss: 5.2510 - accuracy: 0.0608\n",
            "Epoch 9/50\n",
            "80/80 [==============================] - 9s 117ms/step - loss: 5.1714 - accuracy: 0.0663\n",
            "Epoch 10/50\n",
            "80/80 [==============================] - 9s 118ms/step - loss: 5.1110 - accuracy: 0.0671\n",
            "Epoch 11/50\n",
            "80/80 [==============================] - 9s 117ms/step - loss: 5.0425 - accuracy: 0.0655\n",
            "Epoch 12/50\n",
            "80/80 [==============================] - 9s 117ms/step - loss: 4.9960 - accuracy: 0.0782\n",
            "Epoch 13/50\n",
            "80/80 [==============================] - 9s 119ms/step - loss: 4.9350 - accuracy: 0.0758\n",
            "Epoch 14/50\n",
            "80/80 [==============================] - 9s 118ms/step - loss: 4.8916 - accuracy: 0.0774\n",
            "Epoch 15/50\n",
            "80/80 [==============================] - 9s 116ms/step - loss: 4.8491 - accuracy: 0.0786\n",
            "Epoch 16/50\n",
            "80/80 [==============================] - 9s 117ms/step - loss: 4.8101 - accuracy: 0.0782\n",
            "Epoch 17/50\n",
            "80/80 [==============================] - 9s 118ms/step - loss: 4.7711 - accuracy: 0.0825\n",
            "Epoch 18/50\n",
            "80/80 [==============================] - 9s 117ms/step - loss: 4.7213 - accuracy: 0.0900\n",
            "Epoch 19/50\n",
            "80/80 [==============================] - 9s 117ms/step - loss: 4.6795 - accuracy: 0.0951\n",
            "Epoch 20/50\n",
            "80/80 [==============================] - 9s 117ms/step - loss: 4.6403 - accuracy: 0.0991\n",
            "Epoch 21/50\n",
            "80/80 [==============================] - 9s 117ms/step - loss: 4.6063 - accuracy: 0.0995\n",
            "Epoch 22/50\n",
            "80/80 [==============================] - 11s 133ms/step - loss: 4.5745 - accuracy: 0.1038\n",
            "Epoch 23/50\n",
            "80/80 [==============================] - 9s 118ms/step - loss: 4.5252 - accuracy: 0.1117\n",
            "Epoch 24/50\n",
            "80/80 [==============================] - 9s 117ms/step - loss: 4.4955 - accuracy: 0.1090\n",
            "Epoch 25/50\n",
            "80/80 [==============================] - 9s 118ms/step - loss: 4.4721 - accuracy: 0.1125\n",
            "Epoch 26/50\n",
            "80/80 [==============================] - 10s 119ms/step - loss: 4.4066 - accuracy: 0.1137\n",
            "Epoch 27/50\n",
            "80/80 [==============================] - 9s 119ms/step - loss: 4.3729 - accuracy: 0.1224\n",
            "Epoch 28/50\n",
            "80/80 [==============================] - 9s 119ms/step - loss: 4.3418 - accuracy: 0.1153\n",
            "Epoch 29/50\n",
            "80/80 [==============================] - 10s 119ms/step - loss: 4.3542 - accuracy: 0.1196\n",
            "Epoch 30/50\n",
            "80/80 [==============================] - 9s 118ms/step - loss: 4.2908 - accuracy: 0.1279\n",
            "Epoch 31/50\n",
            "80/80 [==============================] - 10s 119ms/step - loss: 4.2372 - accuracy: 0.1326\n",
            "Epoch 32/50\n",
            "80/80 [==============================] - 10s 119ms/step - loss: 4.2060 - accuracy: 0.1405\n",
            "Epoch 33/50\n",
            "80/80 [==============================] - 9s 118ms/step - loss: 4.1985 - accuracy: 0.1370\n",
            "Epoch 34/50\n",
            "80/80 [==============================] - 9s 118ms/step - loss: 4.1343 - accuracy: 0.1496\n",
            "Epoch 35/50\n",
            "80/80 [==============================] - 9s 118ms/step - loss: 4.1066 - accuracy: 0.1473\n",
            "Epoch 36/50\n",
            "80/80 [==============================] - 9s 117ms/step - loss: 4.0629 - accuracy: 0.1548\n",
            "Epoch 37/50\n",
            "80/80 [==============================] - 11s 132ms/step - loss: 4.0224 - accuracy: 0.1555\n",
            "Epoch 38/50\n",
            "80/80 [==============================] - 10s 119ms/step - loss: 3.9924 - accuracy: 0.1583\n",
            "Epoch 39/50\n",
            "80/80 [==============================] - 9s 118ms/step - loss: 3.9703 - accuracy: 0.1670\n",
            "Epoch 40/50\n",
            "80/80 [==============================] - 9s 118ms/step - loss: 3.9520 - accuracy: 0.1623\n",
            "Epoch 41/50\n",
            "80/80 [==============================] - 9s 118ms/step - loss: 3.9161 - accuracy: 0.1705\n",
            "Epoch 42/50\n",
            "80/80 [==============================] - 9s 118ms/step - loss: 3.8642 - accuracy: 0.1773\n",
            "Epoch 43/50\n",
            "80/80 [==============================] - 9s 117ms/step - loss: 3.8256 - accuracy: 0.1808\n",
            "Epoch 44/50\n",
            "80/80 [==============================] - 9s 118ms/step - loss: 3.7904 - accuracy: 0.1950\n",
            "Epoch 45/50\n",
            "80/80 [==============================] - 9s 118ms/step - loss: 3.7457 - accuracy: 0.2006\n",
            "Epoch 46/50\n",
            "80/80 [==============================] - 9s 118ms/step - loss: 3.7190 - accuracy: 0.2029\n",
            "Epoch 47/50\n",
            "80/80 [==============================] - 9s 117ms/step - loss: 3.6808 - accuracy: 0.2053\n",
            "Epoch 48/50\n",
            "80/80 [==============================] - 9s 117ms/step - loss: 3.6428 - accuracy: 0.2144\n",
            "Epoch 49/50\n",
            "80/80 [==============================] - 9s 118ms/step - loss: 3.6050 - accuracy: 0.2266\n",
            "Epoch 50/50\n",
            "80/80 [==============================] - 9s 118ms/step - loss: 3.5749 - accuracy: 0.2329\n"
          ]
        }
      ]
    },
    {
      "cell_type": "code",
      "source": [
        "seed_text = \"tierra\"\n",
        "next_words = 30\n",
        "   \n",
        "for _ in range(next_words):\n",
        "    token_list = tokenizer.texts_to_sequences([seed_text])[0]\n",
        "    token_list = pad_sequences([token_list], maxlen=max_sequence_len-1, padding='pre')\n",
        "    predict_x=model.predict(token_list, verbose=0) \n",
        "    classes_x=np.argmax(predict_x,axis=1)\n",
        "    output_word = \"\"\n",
        "    for word, index in tokenizer.word_index.items():\n",
        "        if index == classes_x:\n",
        "            output_word = word\n",
        "            break\n",
        "    seed_text += \" \" + output_word\n",
        "print(seed_text)\n"
      ],
      "metadata": {
        "colab": {
          "base_uri": "https://localhost:8080/"
        },
        "id": "8qRUFWXo7ehl",
        "outputId": "a238c961-783b-4d80-8d96-abab5b18253f"
      },
      "execution_count": 12,
      "outputs": [
        {
          "output_type": "stream",
          "name": "stdout",
          "text": [
            "tierra no te payas chile son ay brindo dijo un corazón de un moza ay chile son ay brindo por el mujer vino vino son chicha de la ramá brindo por\n"
          ]
        }
      ]
    },
    {
      "cell_type": "code",
      "source": [
        "# Guardar el Modelo\n",
        "model.save('modelo_payas.h5')\n",
        "\n",
        "# Recrea exactamente el mismo modelo solo desde el archivo\n",
        "#new_model = keras.models.load_model('path_to_my_model.h5')"
      ],
      "metadata": {
        "id": "sb5IBjjyBH-b"
      },
      "execution_count": 13,
      "outputs": []
    },
    {
      "cell_type": "code",
      "source": [
        "import pickle\n",
        "\n",
        "# saving\n",
        "with open('tokenizer.pickle', 'wb') as handle:\n",
        "    pickle.dump(tokenizer, handle, protocol=pickle.HIGHEST_PROTOCOL)\n",
        "\n",
        "# loading\n",
        "#with open('tokenizer.pickle', 'rb') as handle:\n",
        "#    tokenizer = pickle.load(handle)"
      ],
      "metadata": {
        "id": "64RxV3JYDEoL"
      },
      "execution_count": 14,
      "outputs": []
    },
    {
      "cell_type": "code",
      "source": [
        "print(max_sequence_len)"
      ],
      "metadata": {
        "colab": {
          "base_uri": "https://localhost:8080/"
        },
        "id": "53wRzCw1FAdW",
        "outputId": "5e47ca19-eb57-4966-a534-24758ecbcfe7"
      },
      "execution_count": 15,
      "outputs": [
        {
          "output_type": "stream",
          "name": "stdout",
          "text": [
            "24\n"
          ]
        }
      ]
    }
  ]
}